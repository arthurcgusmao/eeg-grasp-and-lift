{
 "cells": [
  {
   "cell_type": "markdown",
   "metadata": {},
   "source": [
    "## Dependencies"
   ]
  },
  {
   "cell_type": "code",
   "execution_count": 2,
   "metadata": {},
   "outputs": [],
   "source": [
    "import pandas as pd\n",
    "import numpy as np\n",
    "import tensorflow as tf\n",
    "from sklearn.metrics import roc_auc_score\n",
    "import time\n",
    "import os\n",
    "import matplotlib.pyplot as plt\n",
    "%matplotlib inline\n",
    "from sklearn.preprocessing import StandardScaler\n",
    "#np.random.seed(0)\n",
    "os.environ[\"CUDA_VISIBLE_DEVICES\"] = '1'"
   ]
  },
  {
   "cell_type": "markdown",
   "metadata": {},
   "source": [
    "# Data Preprocessing"
   ]
  },
  {
   "cell_type": "markdown",
   "metadata": {},
   "source": [
    "## Read data"
   ]
  },
  {
   "cell_type": "code",
   "execution_count": 3,
   "metadata": {},
   "outputs": [],
   "source": [
    "def read_data(sbj_i, srs_i):\n",
    "    x = pd.read_csv('./data/train/subj{}_series{}_data.csv'  .format(sbj_i, srs_i), index_col='id')\n",
    "    y = pd.read_csv('./data/train/subj{}_series{}_events.csv'.format(sbj_i, srs_i), index_col='id')\n",
    "    return x,y"
   ]
  },
  {
   "cell_type": "code",
   "execution_count": 4,
   "metadata": {},
   "outputs": [
    {
     "name": "stdout",
     "output_type": "stream",
     "text": [
      "There are 96 series in total.\n"
     ]
    }
   ],
   "source": [
    "data = [read_data(i,j) for j in range(1,9) for i in range(1,13)]\n",
    "print('There are {} series in total.'.format(len(data)))"
   ]
  },
  {
   "cell_type": "markdown",
   "metadata": {},
   "source": [
    "## Standardization"
   ]
  },
  {
   "cell_type": "code",
   "execution_count": 5,
   "metadata": {},
   "outputs": [],
   "source": [
    "scaler = StandardScaler()\n",
    "\n",
    "all_x = pd.DataFrame()\n",
    "for x,_ in data:\n",
    "    all_x = pd.concat((x, all_x))\n",
    "\n",
    "scaler.fit(all_x)\n",
    "train = []\n",
    "for x,y in data:\n",
    "    train.append([scaler.transform(x),y])"
   ]
  },
  {
   "cell_type": "code",
   "execution_count": 6,
   "metadata": {},
   "outputs": [],
   "source": [
    "# # visualization\n",
    "# xcols = data[0][0].columns\n",
    "# fig = plt.figure(figsize=(25,200))\n",
    "\n",
    "# for idx,col in enumerate(xcols):\n",
    "#     xx = []\n",
    "#     ax = fig.add_subplot(len(xcols), 1, idx+1)\n",
    "#     for x,y in train:\n",
    "#         xx.append(x[col])\n",
    "# #         break\n",
    "#     ax.boxplot(xx, showfliers=False)\n",
    "#     break"
   ]
  },
  {
   "cell_type": "markdown",
   "metadata": {},
   "source": [
    "## Separate into Train/Valid"
   ]
  },
  {
   "cell_type": "markdown",
   "metadata": {},
   "source": [
    "We randomly select one series from each subject to be part of the validation set."
   ]
  },
  {
   "cell_type": "code",
   "execution_count": 7,
   "metadata": {},
   "outputs": [],
   "source": [
    "valid_idxs = reversed([0,14,23,25,37,44,50,57,65,78,80,94])\n",
    "valid = [train.pop(i) for i in valid_idxs]"
   ]
  },
  {
   "cell_type": "code",
   "execution_count": 8,
   "metadata": {},
   "outputs": [
    {
     "data": {
      "text/plain": [
       "(84, 12)"
      ]
     },
     "execution_count": 8,
     "metadata": {},
     "output_type": "execute_result"
    }
   ],
   "source": [
    "len(train), len(valid)"
   ]
  },
  {
   "cell_type": "code",
   "execution_count": 9,
   "metadata": {},
   "outputs": [
    {
     "data": {
      "text/plain": [
       "array([[ 0.9353076 , -0.05334334, -1.72135124, -0.80666212,  0.06618727,\n",
       "         0.54386744,  0.12806491, -0.48223347,  1.32653733,  1.32760938,\n",
       "         0.39085719, -0.89306585,  4.73817947,  2.156778  ,  1.19188958,\n",
       "         1.11753778, -0.44699572, -0.74099763,  1.83291025,  0.83643326,\n",
       "         1.04905821,  1.34776829,  0.49217662,  2.77917604,  1.70834393,\n",
       "         0.4847347 ,  0.5245576 ,  0.27292517,  0.99660636,  1.8774586 ,\n",
       "         0.26778848,  0.58820446],\n",
       "       [ 0.93339755, -0.01907283, -1.66025906, -0.66851354,  0.06053278,\n",
       "         0.7010149 ,  0.12395646, -0.39446198,  1.56226182,  1.45132501,\n",
       "         0.48487921, -0.93837847,  4.85866213,  2.27391795,  1.2843401 ,\n",
       "         1.14263616, -0.34685444, -0.65210452,  1.93424751,  0.91453691,\n",
       "         1.09427202,  1.24742336,  0.62571872,  2.85492979,  1.68338706,\n",
       "         0.52078477,  0.42579472,  0.56862171,  1.00883616,  1.84420457,\n",
       "         0.36146941,  0.6180799 ]])"
      ]
     },
     "metadata": {},
     "output_type": "display_data"
    },
    {
     "data": {
      "text/html": [
       "<div>\n",
       "<style scoped>\n",
       "    .dataframe tbody tr th:only-of-type {\n",
       "        vertical-align: middle;\n",
       "    }\n",
       "\n",
       "    .dataframe tbody tr th {\n",
       "        vertical-align: top;\n",
       "    }\n",
       "\n",
       "    .dataframe thead th {\n",
       "        text-align: right;\n",
       "    }\n",
       "</style>\n",
       "<table border=\"1\" class=\"dataframe\">\n",
       "  <thead>\n",
       "    <tr style=\"text-align: right;\">\n",
       "      <th></th>\n",
       "      <th>HandStart</th>\n",
       "      <th>FirstDigitTouch</th>\n",
       "      <th>BothStartLoadPhase</th>\n",
       "      <th>LiftOff</th>\n",
       "      <th>Replace</th>\n",
       "      <th>BothReleased</th>\n",
       "    </tr>\n",
       "    <tr>\n",
       "      <th>id</th>\n",
       "      <th></th>\n",
       "      <th></th>\n",
       "      <th></th>\n",
       "      <th></th>\n",
       "      <th></th>\n",
       "      <th></th>\n",
       "    </tr>\n",
       "  </thead>\n",
       "  <tbody>\n",
       "    <tr>\n",
       "      <th>subj2_series1_0</th>\n",
       "      <td>0</td>\n",
       "      <td>0</td>\n",
       "      <td>0</td>\n",
       "      <td>0</td>\n",
       "      <td>0</td>\n",
       "      <td>0</td>\n",
       "    </tr>\n",
       "    <tr>\n",
       "      <th>subj2_series1_1</th>\n",
       "      <td>0</td>\n",
       "      <td>0</td>\n",
       "      <td>0</td>\n",
       "      <td>0</td>\n",
       "      <td>0</td>\n",
       "      <td>0</td>\n",
       "    </tr>\n",
       "  </tbody>\n",
       "</table>\n",
       "</div>"
      ],
      "text/plain": [
       "                 HandStart  FirstDigitTouch  BothStartLoadPhase  LiftOff  \\\n",
       "id                                                                         \n",
       "subj2_series1_0          0                0                   0        0   \n",
       "subj2_series1_1          0                0                   0        0   \n",
       "\n",
       "                 Replace  BothReleased  \n",
       "id                                      \n",
       "subj2_series1_0        0             0  \n",
       "subj2_series1_1        0             0  "
      ]
     },
     "metadata": {},
     "output_type": "display_data"
    }
   ],
   "source": [
    "x,y = train[0]\n",
    "display(x[:2])\n",
    "display(y.iloc[:2])"
   ]
  },
  {
   "cell_type": "markdown",
   "metadata": {},
   "source": [
    "## Further Data Exploration\n",
    "\n",
    "In this section we are going to explore the data, checking for possible label imbalances for instance."
   ]
  },
  {
   "cell_type": "code",
   "execution_count": 10,
   "metadata": {},
   "outputs": [
    {
     "name": "stdout",
     "output_type": "stream",
     "text": [
      "Average series length: 187071\n",
      "Sum of all series length: 15714003\n"
     ]
    }
   ],
   "source": [
    "len_ = 0\n",
    "count = 0\n",
    "for x,y in train:\n",
    "    len_ += len(x)\n",
    "    count += 1\n",
    "print(\"Average series length: {}\".format(len_/count))\n",
    "print(\"Sum of all series length: {}\".format(len_))"
   ]
  },
  {
   "cell_type": "code",
   "execution_count": 11,
   "metadata": {},
   "outputs": [
    {
     "data": {
      "image/png": "[encoded data removed]",
      "text/plain": [
       "<matplotlib.figure.Figure at 0x7fb0e77d0750>"
      ]
     },
     "metadata": {},
     "output_type": "display_data"
    }
   ],
   "source": [
    "fig = plt.figure(figsize=(8,4))\n",
    "cols = train[0][1].columns\n",
    "first_ax = None\n",
    "\n",
    "for idx,col in enumerate(cols):\n",
    "    if first_ax == None:\n",
    "        ax = fig.add_subplot(len(cols),1,idx+1)\n",
    "        first_ax = ax\n",
    "    else: \n",
    "        ax = fig.add_subplot(len(cols),1,idx+1, sharex=first_ax)\n",
    "    ax.plot(train[33][1].reset_index()[col][:4000], label=col)\n",
    "    ax.legend()"
   ]
  },
  {
   "cell_type": "markdown",
   "metadata": {},
   "source": [
    "In the figure above we have plotted how each label evolve over time for one repetition of the grasp-and-lift movement. We can see that there is some overlapping of labels, specially for the \"FirstDigitTouch\", \"BothStartLoadPhase\" and \"LiftOff\" labels. Therefore, we must NOT apply a softmax function at our outputs, but a sigmoid instead."
   ]
  },
  {
   "cell_type": "code",
   "execution_count": 12,
   "metadata": {},
   "outputs": [
    {
     "name": "stdout",
     "output_type": "stream",
     "text": [
      "{'HandStart': 150, 'LiftOff': 150, 'Replace': 150, 'BothStartLoadPhase': 150, 'FirstDigitTouch': 150, 'BothReleased': 150}\n"
     ]
    }
   ],
   "source": [
    "last = {}\n",
    "step_start = {}\n",
    "step_duration = {}\n",
    "step_count = {}\n",
    "y_cols = train[0][1].columns\n",
    "for col in y_cols:\n",
    "    step_start[col] = 0\n",
    "    step_duration[col] = 0\n",
    "    step_count[col] = 0\n",
    "    \n",
    "for _,y in [train[0]]:\n",
    "    for idx,row in y.reset_index().iterrows():\n",
    "        for col in y_cols:\n",
    "            if idx == 0:\n",
    "                pass\n",
    "            elif last[col] == 0 and row[col] == 1:\n",
    "                step_start[col] = idx\n",
    "            elif last[col] == 1 and row[col] == 0:\n",
    "                step_duration[col] += idx - step_start[col]\n",
    "                step_count[col] += 1\n",
    "            last[col] = row[col]\n",
    "\n",
    "step_avg_duration = {}\n",
    "for col in y_cols:\n",
    "    step_avg_duration[col] = step_duration[col] / step_count[col]\n",
    "\n",
    "print step_avg_duration"
   ]
  },
  {
   "cell_type": "markdown",
   "metadata": {},
   "source": [
    "The duration of each step (the total amount of time each movement is active) is 150 for all series. We use this information to guide our search for the best window size (WS). A WS smaller than 150 is likely to miss important information that would help to identify an ongoing movement. WSs much bigger than that are likely to fill the model with unnecessary information (increasing variance). Thus, we expect to experiment with WSs ranging from 150 to 1500."
   ]
  },
  {
   "cell_type": "markdown",
   "metadata": {},
   "source": [
    "# Define Model Class (Pipeline)"
   ]
  },
  {
   "cell_type": "code",
   "execution_count": 13,
   "metadata": {},
   "outputs": [],
   "source": [
    "class Model(object):\n",
    "    \n",
    "    def __init__(self, model_def, window_size=None):\n",
    "        # define tensorflow graph\n",
    "        if window_size != None:\n",
    "            self.inputs = tf.placeholder(tf.float32, [None, window_size, 32])\n",
    "            self.logits = model_def(self.inputs, window_size)\n",
    "        else:\n",
    "            self.inputs = tf.placeholder(tf.float32, [None, 32])\n",
    "            self.logits = model_def(self.inputs)\n",
    "        self.window_size = window_size\n",
    "        \n",
    "        self.labels = tf.placeholder(tf.float32, [None,  6])\n",
    "        self.preds = tf.nn.sigmoid(self.logits)      \n",
    "        self.cost = tf.reduce_mean(tf.nn.sigmoid_cross_entropy_with_logits(logits=self.logits, labels=self.labels))\n",
    "        \n",
    "    \n",
    "    def set_data(self, train, valid):\n",
    "        self.train = train\n",
    "        self.valid = valid\n",
    "        \n",
    "    def fit(self, epochs, batch_size, batches_gen, lr=0.001):\n",
    "        self.optimizer = tf.train.AdamOptimizer(learning_rate=lr).minimize(self.cost)\n",
    "        self.sess = tf.Session()\n",
    "        start_time = time.time()\n",
    "        self.sess.run(tf.global_variables_initializer())\n",
    "        \n",
    "        # loop through epochs\n",
    "        for e in range(epochs):\n",
    "            loss = 0\n",
    "            n_total_batches = 0\n",
    "            partial_loss = 0; partial_n_batches_count = 0\n",
    "            print_partial_loss_every = 1000000//batch_size\n",
    "#             print_validation_every = 5500000//batch_size # 5.5M is around 1/3 of an epoch\n",
    "            # loop through training series (and subjects)\n",
    "            for xx,yy in batches_gen(self.train, batch_size, self.window_size, shuffle=True):\n",
    "                _, res = self.sess.run([self.optimizer, self.cost], feed_dict={self.inputs: xx, self.labels: yy}) # train (update weights)\n",
    "                loss += res # calculate loss\n",
    "                n_total_batches += 1\n",
    "                partial_loss += res; partial_n_batches_count += 1 # calculate partial loss\n",
    "                \n",
    "                if n_total_batches % print_partial_loss_every == 0:\n",
    "                    loss_print = partial_loss/partial_n_batches_count # get mean loss to make loss comparable among different batch sizes\n",
    "                    print(\"Epoch: {},\\tBatch: {},\\tMean Loss (last batches): {}\".format(e, n_total_batches, loss_print))\n",
    "                    partial_loss = 0; partial_n_batches_count = 0\n",
    "#                 if n_total_batches % print_validation_every == 0:\n",
    "#                     print(\"Validating...\")\n",
    "#                     valid_mean_auc = self.validate(batch_size, batches_gen)\n",
    "#                     print(\"Valid Mean AUC: {}\".format(valid_mean_auc))\n",
    "            \n",
    "            # print train and valid information\n",
    "            loss /= n_total_batches # get mean loss to make loss comparable among different batch sizes\n",
    "            valid_mean_auc = self.validate(batch_size, batches_gen)\n",
    "            print(\"-----\")\n",
    "            print(\"Epoch: {},\\tBatch: ----,\\tMean Loss (epoch): {},\\tValid Mean AUC: {}\".format(e, loss, valid_mean_auc))\n",
    "            print(\"-----\")\n",
    "\n",
    "        train_time = time.time() - start_time\n",
    "        print(\"Model was trained in {} seconds.\".format(train_time))\n",
    "        \n",
    "        \n",
    "    def validate(self, batch_size, batches_gen):\n",
    "        \"\"\"Calculates the mean ROC AUC.\"\"\"\n",
    "        total_predictions = []\n",
    "        total_labels = pd.DataFrame()\n",
    "        for xx,yy in batches_gen(self.valid, batch_size, self.window_size, shuffle=False):\n",
    "            predictions = self.sess.run(self.preds, feed_dict={self.inputs: xx})\n",
    "            total_predictions.extend(predictions)\n",
    "            total_labels = pd.concat((total_labels, yy))\n",
    "        mean_auc = roc_auc_score(total_labels, total_predictions, average='macro')\n",
    "        return mean_auc"
   ]
  },
  {
   "cell_type": "markdown",
   "metadata": {},
   "source": [
    "# Models"
   ]
  },
  {
   "cell_type": "code",
   "execution_count": 14,
   "metadata": {},
   "outputs": [],
   "source": [
    "def feedforward_nn(inputs):\n",
    "    l1 = tf.layers.dense(inputs, 16)\n",
    "    l2 = tf.layers.dense(l1    , 10)\n",
    "    l3 = tf.layers.dense(l2    ,  6)\n",
    "    return l3\n",
    "            \n",
    "def feedforward_batches_gen(xy_series, batch_size, window_size=None, shuffle=False):\n",
    "    \"\"\"Generate batches of length `batch_size` from a list of (features, labels) tuples.\"\"\"\n",
    "    xy_indexes = np.arange(len(xy_series))\n",
    "    if shuffle: np.random.shuffle(xy_indexes)\n",
    "    for i in xy_indexes:\n",
    "        x,y = xy_series[i]\n",
    "        n_batches = (len(x) + batch_size - 1) // batch_size\n",
    "        for b in range(n_batches): # ceil division to do not discard datapoints\n",
    "            # slice features and labels to the current batch interval\n",
    "            xx = x[batch_size*b : batch_size*(b+1)]\n",
    "            yy = y[batch_size*b : batch_size*(b+1)]\n",
    "            yield xx, yy"
   ]
  },
  {
   "cell_type": "code",
   "execution_count": 57,
   "metadata": {},
   "outputs": [],
   "source": [
    "def conv_nn(inputs, window_size, n_filters=64, kernel_size=3, strides=1, dense_size=128): # Bx1024x32 (supposing window_size=1024 and features=32)\n",
    "    lconv = tf.layers.conv1d(inputs, filters=n_filters, kernel_size=kernel_size, strides=strides, activation=tf.nn.relu, padding='same') # Bx1024x64\n",
    "    lpool = tf.layers.max_pooling1d(lconv, pool_size=2, strides=2, padding='same') # Bx512x64\n",
    "    lflat = tf.reshape(lpool, [-1, (window_size/2)*n_filters/strides]) # Bx(512*64)\n",
    "    ldense = tf.layers.dense(lflat, dense_size, activation=tf.nn.relu) # Bx128\n",
    "    logits = tf.layers.dense(ldense, 6) # Bx6\n",
    "    return logits\n",
    "\n",
    "def conv_nn_2(inputs, window_size): # Bx1024x32 (supposing window_size=1024 and features=32)\n",
    "    # b x ws x 32\n",
    "    lconv = tf.layers.conv1d(inputs, filters=32, kernel_size=3, strides=2, activation=tf.nn.relu, padding='same')\n",
    "    # b x ws/2 x 32\n",
    "    lconv2 = tf.layers.conv1d(lconv, filters=16, kernel_size=3, strides=2, activation=tf.nn.relu, padding='same')\n",
    "    # b x ws/4 x 16\n",
    "    lpool = tf.layers.max_pooling1d(lconv2, pool_size=2, strides=2, padding='same') # pooling does not affect channels\n",
    "    # b x ws/8 x 16\n",
    "    lflat = tf.reshape(lpool, [-1, (window_size/8)*16]) # flatten to apply dense layer\n",
    "    ldense1 = tf.layers.dense(lflat, 256, activation=tf.nn.relu)\n",
    "    ldense2 = tf.layers.dense(ldense1, 32, activation=tf.nn.relu) \n",
    "    logits = tf.layers.dense(ldense2, 6)\n",
    "    return logits\n",
    "\n",
    "def strided_axis0(a, L):\n",
    "    \"\"\"Creates a view into the input array.\n",
    "    Taken from https://stackoverflow.com/a/43413801/5103881\n",
    "    \"\"\"\n",
    "    # Store the shape and strides info\n",
    "    shp = a.shape\n",
    "    s  = a.strides\n",
    "\n",
    "    # Compute length of output array along the first axis\n",
    "    nd0 = shp[0]-L+1\n",
    "\n",
    "    # Setup shape and strides for use with np.lib.stride_tricks.as_strided\n",
    "    # and get (n+1) dim output array\n",
    "    shp_in = (nd0,L)+shp[1:]\n",
    "    strd_in = (s[0],) + s\n",
    "    return np.lib.stride_tricks.as_strided(a, shape=shp_in, strides=strd_in, writeable=False)\n",
    "\n",
    "def conv_batches_gen(xy_series, batch_size, window_size, shuffle=False):\n",
    "    \"\"\"Generate batches of length `batch_size` from a list of (features, labels) tuples.\"\"\"\n",
    "    xy_indexes = np.arange(len(xy_series))\n",
    "    if shuffle: np.random.shuffle(xy_indexes)\n",
    "    for i in xy_indexes:\n",
    "        x,y = xy_series[i]\n",
    "        x_slices = strided_axis0(x, window_size)\n",
    "        y_slices = y.iloc[window_size-1:] # we cannot fit any data point before (window_size - 1)\n",
    "        n_batches = (len(x_slices) + batch_size - 1) // batch_size # trick to ceil using floor division\n",
    "        for b in range(n_batches):\n",
    "            yield x_slices[batch_size*b : batch_size*(b+1)], y_slices.iloc[batch_size*b : batch_size*(b+1)]"
   ]
  },
  {
   "cell_type": "markdown",
   "metadata": {},
   "source": [
    "# Train and Validate models"
   ]
  },
  {
   "cell_type": "markdown",
   "metadata": {},
   "source": [
    "There are 12 subjects and 8 series. To train using all data takes a long period of time. In order to speed up the model selection and hyperparameter tuning we use data from one subject only (subject #1). This corresponds to taking the first 7 training series and the first validation series."
   ]
  },
  {
   "cell_type": "code",
   "execution_count": 58,
   "metadata": {},
   "outputs": [],
   "source": [
    "train_ms = train\n",
    "valid_ms = valid[:1]"
   ]
  },
  {
   "cell_type": "code",
   "execution_count": 63,
   "metadata": {
    "scrolled": false
   },
   "outputs": [
    {
     "name": "stdout",
     "output_type": "stream",
     "text": [
      "Epoch: 0,\tBatch: 976,\tMean Loss (last batches): 0.145131434088\n",
      "Epoch: 0,\tBatch: 1952,\tMean Loss (last batches): 0.112968327311\n",
      "Epoch: 0,\tBatch: 2928,\tMean Loss (last batches): 0.12677082369\n",
      "Epoch: 0,\tBatch: 3904,\tMean Loss (last batches): 0.0796978171415\n",
      "Epoch: 0,\tBatch: 4880,\tMean Loss (last batches): 0.104712334079\n",
      "Epoch: 0,\tBatch: 5856,\tMean Loss (last batches): 0.0877261946894\n",
      "Epoch: 0,\tBatch: 6832,\tMean Loss (last batches): 0.113694066458\n",
      "Epoch: 0,\tBatch: 7808,\tMean Loss (last batches): 0.103212157959\n",
      "Epoch: 0,\tBatch: 8784,\tMean Loss (last batches): 0.097332759139\n",
      "Epoch: 0,\tBatch: 9760,\tMean Loss (last batches): 0.0687983191268\n",
      "Epoch: 0,\tBatch: 10736,\tMean Loss (last batches): 0.100042946674\n",
      "Epoch: 0,\tBatch: 11712,\tMean Loss (last batches): 0.0908773105772\n",
      "Epoch: 0,\tBatch: 12688,\tMean Loss (last batches): 0.0894502694037\n",
      "Epoch: 0,\tBatch: 13664,\tMean Loss (last batches): 0.0670513886708\n",
      "Epoch: 0,\tBatch: 14640,\tMean Loss (last batches): 0.104065466332\n",
      "-----\n",
      "Epoch: 0,\tBatch: ----,\tMean Loss (epoch): 0.0992636054824,\tValid Mean AUC: 0.741668310011\n",
      "-----\n",
      "Epoch: 1,\tBatch: 976,\tMean Loss (last batches): 0.12016375988\n",
      "Epoch: 1,\tBatch: 1952,\tMean Loss (last batches): 0.0956159984615\n",
      "Epoch: 1,\tBatch: 2928,\tMean Loss (last batches): 0.0844165264999\n",
      "Epoch: 1,\tBatch: 3904,\tMean Loss (last batches): 0.079466467808\n",
      "Epoch: 1,\tBatch: 4880,\tMean Loss (last batches): 0.112747000926\n",
      "Epoch: 1,\tBatch: 5856,\tMean Loss (last batches): 0.101928503886\n",
      "Epoch: 1,\tBatch: 6832,\tMean Loss (last batches): 0.0726699430023\n",
      "Epoch: 1,\tBatch: 7808,\tMean Loss (last batches): 0.0810439068836\n",
      "Epoch: 1,\tBatch: 8784,\tMean Loss (last batches): 0.0932032067681\n",
      "Epoch: 1,\tBatch: 9760,\tMean Loss (last batches): 0.0788461861968\n",
      "Epoch: 1,\tBatch: 10736,\tMean Loss (last batches): 0.0727937561147\n",
      "Epoch: 1,\tBatch: 11712,\tMean Loss (last batches): 0.0961043912696\n",
      "Epoch: 1,\tBatch: 12688,\tMean Loss (last batches): 0.0835297836441\n",
      "Epoch: 1,\tBatch: 13664,\tMean Loss (last batches): 0.0906141541809\n",
      "Epoch: 1,\tBatch: 14640,\tMean Loss (last batches): 0.104647241075\n",
      "-----\n",
      "Epoch: 1,\tBatch: ----,\tMean Loss (epoch): 0.0913819530708,\tValid Mean AUC: 0.844543883244\n",
      "-----\n",
      "Epoch: 2,\tBatch: 976,\tMean Loss (last batches): 0.083160112872\n",
      "Epoch: 2,\tBatch: 1952,\tMean Loss (last batches): 0.085232453713\n",
      "Epoch: 2,\tBatch: 2928,\tMean Loss (last batches): 0.0805923361369\n",
      "Epoch: 2,\tBatch: 3904,\tMean Loss (last batches): 0.0952489954268\n",
      "Epoch: 2,\tBatch: 4880,\tMean Loss (last batches): 0.0907798070747\n",
      "Epoch: 2,\tBatch: 5856,\tMean Loss (last batches): 0.0785382450364\n",
      "Epoch: 2,\tBatch: 6832,\tMean Loss (last batches): 0.0804202528625\n",
      "Epoch: 2,\tBatch: 7808,\tMean Loss (last batches): 0.0840336256751\n",
      "Epoch: 2,\tBatch: 8784,\tMean Loss (last batches): 0.101986545354\n",
      "Epoch: 2,\tBatch: 9760,\tMean Loss (last batches): 0.0957214493809\n",
      "Epoch: 2,\tBatch: 10736,\tMean Loss (last batches): 0.0781592161075\n",
      "Epoch: 2,\tBatch: 11712,\tMean Loss (last batches): 0.0940684096854\n",
      "Epoch: 2,\tBatch: 12688,\tMean Loss (last batches): 0.0852491341161\n",
      "Epoch: 2,\tBatch: 13664,\tMean Loss (last batches): 0.0836245354698\n",
      "Epoch: 2,\tBatch: 14640,\tMean Loss (last batches): 0.0825881159224\n",
      "-----\n",
      "Epoch: 2,\tBatch: ----,\tMean Loss (epoch): 0.0877312493838,\tValid Mean AUC: 0.801125609134\n",
      "-----\n",
      "Epoch: 3,\tBatch: 976,\tMean Loss (last batches): 0.0888722161921\n",
      "Epoch: 3,\tBatch: 1952,\tMean Loss (last batches): 0.0771028790101\n",
      "Epoch: 3,\tBatch: 2928,\tMean Loss (last batches): 0.0901185552642\n",
      "Epoch: 3,\tBatch: 3904,\tMean Loss (last batches): 0.101232201719\n",
      "Epoch: 3,\tBatch: 4880,\tMean Loss (last batches): 0.0751526508079\n",
      "Epoch: 3,\tBatch: 5856,\tMean Loss (last batches): 0.111002944471\n",
      "Epoch: 3,\tBatch: 6832,\tMean Loss (last batches): 0.0716080267377\n",
      "Epoch: 3,\tBatch: 7808,\tMean Loss (last batches): 0.110294632811\n",
      "Epoch: 3,\tBatch: 8784,\tMean Loss (last batches): 0.0810943815884\n",
      "Epoch: 3,\tBatch: 9760,\tMean Loss (last batches): 0.0675932632113\n",
      "Epoch: 3,\tBatch: 10736,\tMean Loss (last batches): 0.0961268594283\n",
      "Epoch: 3,\tBatch: 11712,\tMean Loss (last batches): 0.0931475286877\n",
      "Epoch: 3,\tBatch: 12688,\tMean Loss (last batches): 0.0790555777151\n",
      "Epoch: 3,\tBatch: 13664,\tMean Loss (last batches): 0.0882372749002\n",
      "Epoch: 3,\tBatch: 14640,\tMean Loss (last batches): 0.0848248129857\n",
      "-----\n",
      "Epoch: 3,\tBatch: ----,\tMean Loss (epoch): 0.0868122659212,\tValid Mean AUC: 0.632412581967\n",
      "-----\n",
      "Epoch: 4,\tBatch: 976,\tMean Loss (last batches): 0.0751815057729\n",
      "Epoch: 4,\tBatch: 1952,\tMean Loss (last batches): 0.0830959309405\n",
      "Epoch: 4,\tBatch: 2928,\tMean Loss (last batches): 0.0758872873213\n",
      "Epoch: 4,\tBatch: 3904,\tMean Loss (last batches): 0.110496311746\n",
      "Epoch: 4,\tBatch: 4880,\tMean Loss (last batches): 0.0945270222358\n",
      "Epoch: 4,\tBatch: 5856,\tMean Loss (last batches): 0.0994011756889\n",
      "Epoch: 4,\tBatch: 6832,\tMean Loss (last batches): 0.0880316048776\n",
      "Epoch: 4,\tBatch: 7808,\tMean Loss (last batches): 0.102906122562\n",
      "Epoch: 4,\tBatch: 8784,\tMean Loss (last batches): 0.0884743979858\n",
      "Epoch: 4,\tBatch: 9760,\tMean Loss (last batches): 0.100991326428\n",
      "Epoch: 4,\tBatch: 10736,\tMean Loss (last batches): 0.0698567047926\n",
      "Epoch: 4,\tBatch: 11712,\tMean Loss (last batches): 0.0624461403887\n",
      "Epoch: 4,\tBatch: 12688,\tMean Loss (last batches): 0.0771408745139\n",
      "Epoch: 4,\tBatch: 13664,\tMean Loss (last batches): 0.0930877678296\n",
      "Epoch: 4,\tBatch: 14640,\tMean Loss (last batches): 0.095327361655\n",
      "-----\n",
      "Epoch: 4,\tBatch: ----,\tMean Loss (epoch): 0.0873330849445,\tValid Mean AUC: 0.844321665688\n",
      "-----\n",
      "Epoch: 5,\tBatch: 976,\tMean Loss (last batches): 0.093663004838\n",
      "Epoch: 5,\tBatch: 1952,\tMean Loss (last batches): 0.0930637159929\n",
      "Epoch: 5,\tBatch: 2928,\tMean Loss (last batches): 0.0727587150092\n",
      "Epoch: 5,\tBatch: 3904,\tMean Loss (last batches): 0.0719090245392\n",
      "Epoch: 5,\tBatch: 4880,\tMean Loss (last batches): 0.0902922487963\n",
      "Epoch: 5,\tBatch: 5856,\tMean Loss (last batches): 0.0853074447338\n",
      "Epoch: 5,\tBatch: 6832,\tMean Loss (last batches): 0.082437892056\n",
      "Epoch: 5,\tBatch: 7808,\tMean Loss (last batches): 0.0877741625588\n",
      "Epoch: 5,\tBatch: 8784,\tMean Loss (last batches): 0.0891758957161\n",
      "Epoch: 5,\tBatch: 9760,\tMean Loss (last batches): 0.0984331461884\n",
      "Epoch: 5,\tBatch: 10736,\tMean Loss (last batches): 0.0940437942173\n",
      "Epoch: 5,\tBatch: 11712,\tMean Loss (last batches): 0.0868174930507\n",
      "Epoch: 5,\tBatch: 12688,\tMean Loss (last batches): 0.0703699585348\n",
      "Epoch: 5,\tBatch: 13664,\tMean Loss (last batches): 0.0991273654298\n",
      "Epoch: 5,\tBatch: 14640,\tMean Loss (last batches): 0.0798486220797\n",
      "-----\n",
      "Epoch: 5,\tBatch: ----,\tMean Loss (epoch): 0.0860177175098,\tValid Mean AUC: 0.776361256093\n",
      "-----\n",
      "Epoch: 6,\tBatch: 976,\tMean Loss (last batches): 0.0844430495517\n",
      "Epoch: 6,\tBatch: 1952,\tMean Loss (last batches): 0.0786969577781\n",
      "Epoch: 6,\tBatch: 2928,\tMean Loss (last batches): 0.0687428052977\n",
      "Epoch: 6,\tBatch: 3904,\tMean Loss (last batches): 0.0894378651197\n",
      "Epoch: 6,\tBatch: 4880,\tMean Loss (last batches): 0.0655007168854\n",
      "Epoch: 6,\tBatch: 5856,\tMean Loss (last batches): 0.0671864348005\n",
      "Epoch: 6,\tBatch: 6832,\tMean Loss (last batches): 0.0949553918692\n",
      "Epoch: 6,\tBatch: 7808,\tMean Loss (last batches): 0.0919505422244\n",
      "Epoch: 6,\tBatch: 8784,\tMean Loss (last batches): 0.0865235780766\n",
      "Epoch: 6,\tBatch: 9760,\tMean Loss (last batches): 0.102304238329\n",
      "Epoch: 6,\tBatch: 10736,\tMean Loss (last batches): 0.0796887062705\n",
      "Epoch: 6,\tBatch: 11712,\tMean Loss (last batches): 0.0995063796027\n",
      "Epoch: 6,\tBatch: 12688,\tMean Loss (last batches): 0.0841089051953\n",
      "Epoch: 6,\tBatch: 13664,\tMean Loss (last batches): 0.089204876187\n",
      "Epoch: 6,\tBatch: 14640,\tMean Loss (last batches): 0.0867595910347\n",
      "-----\n",
      "Epoch: 6,\tBatch: ----,\tMean Loss (epoch): 0.084551565177,\tValid Mean AUC: 0.805725747037\n",
      "-----\n",
      "Epoch: 7,\tBatch: 976,\tMean Loss (last batches): 0.0803032076103\n",
      "Epoch: 7,\tBatch: 1952,\tMean Loss (last batches): 0.0825203076687\n",
      "Epoch: 7,\tBatch: 2928,\tMean Loss (last batches): 0.0674798394274\n",
      "Epoch: 7,\tBatch: 3904,\tMean Loss (last batches): 0.0815054853888\n",
      "Epoch: 7,\tBatch: 4880,\tMean Loss (last batches): 0.104102693697\n",
      "Epoch: 7,\tBatch: 5856,\tMean Loss (last batches): 0.0936471872081\n",
      "Epoch: 7,\tBatch: 6832,\tMean Loss (last batches): 0.0909652366766\n",
      "Epoch: 7,\tBatch: 7808,\tMean Loss (last batches): 0.0679927352142\n",
      "Epoch: 7,\tBatch: 8784,\tMean Loss (last batches): 0.0862899286315\n",
      "Epoch: 7,\tBatch: 9760,\tMean Loss (last batches): 0.107177637154\n",
      "Epoch: 7,\tBatch: 10736,\tMean Loss (last batches): 0.0678402204288\n"
     ]
    },
    {
     "name": "stdout",
     "output_type": "stream",
     "text": [
      "Epoch: 7,\tBatch: 11712,\tMean Loss (last batches): 0.0745107319818\n",
      "Epoch: 7,\tBatch: 12688,\tMean Loss (last batches): 0.0926317198729\n",
      "Epoch: 7,\tBatch: 13664,\tMean Loss (last batches): 0.091617249831\n",
      "Epoch: 7,\tBatch: 14640,\tMean Loss (last batches): 0.0677248359166\n",
      "-----\n",
      "Epoch: 7,\tBatch: ----,\tMean Loss (epoch): 0.0830947192922,\tValid Mean AUC: 0.788399838817\n",
      "-----\n",
      "Epoch: 8,\tBatch: 976,\tMean Loss (last batches): 0.0859610742091\n",
      "Epoch: 8,\tBatch: 1952,\tMean Loss (last batches): 0.0716566438282\n",
      "Epoch: 8,\tBatch: 2928,\tMean Loss (last batches): 0.0815766102336\n",
      "Epoch: 8,\tBatch: 3904,\tMean Loss (last batches): 0.0715843517102\n",
      "Epoch: 8,\tBatch: 4880,\tMean Loss (last batches): 0.1004473948\n",
      "Epoch: 8,\tBatch: 5856,\tMean Loss (last batches): 0.0911667081598\n",
      "Epoch: 8,\tBatch: 6832,\tMean Loss (last batches): 0.0792035839272\n",
      "Epoch: 8,\tBatch: 7808,\tMean Loss (last batches): 0.106146194623\n",
      "Epoch: 8,\tBatch: 8784,\tMean Loss (last batches): 0.0661416886828\n",
      "Epoch: 8,\tBatch: 9760,\tMean Loss (last batches): 0.0652988707289\n",
      "Epoch: 8,\tBatch: 10736,\tMean Loss (last batches): 0.0680589321204\n",
      "Epoch: 8,\tBatch: 11712,\tMean Loss (last batches): 0.094552654979\n",
      "Epoch: 8,\tBatch: 12688,\tMean Loss (last batches): 0.0749718352858\n",
      "Epoch: 8,\tBatch: 13664,\tMean Loss (last batches): 0.0985800419849\n",
      "Epoch: 8,\tBatch: 14640,\tMean Loss (last batches): 0.0911764155624\n",
      "-----\n",
      "Epoch: 8,\tBatch: ----,\tMean Loss (epoch): 0.0830012583475,\tValid Mean AUC: 0.875752623436\n",
      "-----\n",
      "Epoch: 9,\tBatch: 976,\tMean Loss (last batches): 0.0810454983911\n",
      "Epoch: 9,\tBatch: 1952,\tMean Loss (last batches): 0.0855533066057\n",
      "Epoch: 9,\tBatch: 2928,\tMean Loss (last batches): 0.101902566614\n",
      "Epoch: 9,\tBatch: 3904,\tMean Loss (last batches): 0.0894877861327\n",
      "Epoch: 9,\tBatch: 4880,\tMean Loss (last batches): 0.0699607969009\n",
      "Epoch: 9,\tBatch: 5856,\tMean Loss (last batches): 0.0764036899653\n",
      "Epoch: 9,\tBatch: 6832,\tMean Loss (last batches): 0.0838132119831\n",
      "Epoch: 9,\tBatch: 7808,\tMean Loss (last batches): 0.0813999579384\n",
      "Epoch: 9,\tBatch: 8784,\tMean Loss (last batches): 0.074520420471\n",
      "Epoch: 9,\tBatch: 9760,\tMean Loss (last batches): 0.0748806598027\n",
      "Epoch: 9,\tBatch: 10736,\tMean Loss (last batches): 0.0784093624772\n",
      "Epoch: 9,\tBatch: 11712,\tMean Loss (last batches): 0.08859094353\n",
      "Epoch: 9,\tBatch: 12688,\tMean Loss (last batches): 0.0929168135427\n",
      "Epoch: 9,\tBatch: 13664,\tMean Loss (last batches): 0.0997960891383\n",
      "Epoch: 9,\tBatch: 14640,\tMean Loss (last batches): 0.0780805722955\n",
      "-----\n",
      "Epoch: 9,\tBatch: ----,\tMean Loss (epoch): 0.0831586649004,\tValid Mean AUC: 0.857450575102\n",
      "-----\n",
      "Epoch: 10,\tBatch: 976,\tMean Loss (last batches): 0.0731747027302\n",
      "Epoch: 10,\tBatch: 1952,\tMean Loss (last batches): 0.0961479702055\n",
      "Epoch: 10,\tBatch: 2928,\tMean Loss (last batches): 0.0943298383523\n",
      "Epoch: 10,\tBatch: 3904,\tMean Loss (last batches): 0.0668691918693\n",
      "Epoch: 10,\tBatch: 4880,\tMean Loss (last batches): 0.0898048717534\n",
      "Epoch: 10,\tBatch: 5856,\tMean Loss (last batches): 0.0795141622068\n",
      "Epoch: 10,\tBatch: 6832,\tMean Loss (last batches): 0.0791704378332\n",
      "Epoch: 10,\tBatch: 7808,\tMean Loss (last batches): 0.0855358957579\n",
      "Epoch: 10,\tBatch: 8784,\tMean Loss (last batches): 0.0891542242384\n",
      "Epoch: 10,\tBatch: 9760,\tMean Loss (last batches): 0.0769037589971\n",
      "Epoch: 10,\tBatch: 10736,\tMean Loss (last batches): 0.0951207953346\n",
      "Epoch: 10,\tBatch: 11712,\tMean Loss (last batches): 0.0771912475965\n",
      "Epoch: 10,\tBatch: 12688,\tMean Loss (last batches): 0.0821933725146\n",
      "Epoch: 10,\tBatch: 13664,\tMean Loss (last batches): 0.0828527456262\n",
      "Epoch: 10,\tBatch: 14640,\tMean Loss (last batches): 0.095106722444\n",
      "-----\n",
      "Epoch: 10,\tBatch: ----,\tMean Loss (epoch): 0.0835303579368,\tValid Mean AUC: 0.750751488903\n",
      "-----\n"
     ]
    },
    {
     "ename": "KeyboardInterrupt",
     "evalue": "",
     "output_type": "error",
     "traceback": [
      "\u001b[0;31m---------------------------------------------------------------------------\u001b[0m",
      "\u001b[0;31mKeyboardInterrupt\u001b[0m                         Traceback (most recent call last)",
      "\u001b[0;32m<ipython-input-63-6ad8459d0928>\u001b[0m in \u001b[0;36m<module>\u001b[0;34m()\u001b[0m\n\u001b[1;32m      4\u001b[0m     \u001b[0mepochs\u001b[0m\u001b[0;34m=\u001b[0m\u001b[0;36m1000\u001b[0m\u001b[0;34m,\u001b[0m\u001b[0;34m\u001b[0m\u001b[0m\n\u001b[1;32m      5\u001b[0m     \u001b[0mbatch_size\u001b[0m\u001b[0;34m=\u001b[0m\u001b[0;36m1024\u001b[0m\u001b[0;34m,\u001b[0m\u001b[0;34m\u001b[0m\u001b[0m\n\u001b[0;32m----> 6\u001b[0;31m     \u001b[0mbatches_gen\u001b[0m\u001b[0;34m=\u001b[0m\u001b[0mconv_batches_gen\u001b[0m\u001b[0;34m,\u001b[0m\u001b[0;34m\u001b[0m\u001b[0m\n\u001b[0m\u001b[1;32m      7\u001b[0m )\n",
      "\u001b[0;32m<ipython-input-13-c8d8680e6e90>\u001b[0m in \u001b[0;36mfit\u001b[0;34m(self, epochs, batch_size, batches_gen, lr)\u001b[0m\n\u001b[1;32m     35\u001b[0m             \u001b[0;31m# loop through training series (and subjects)\u001b[0m\u001b[0;34m\u001b[0m\u001b[0;34m\u001b[0m\u001b[0m\n\u001b[1;32m     36\u001b[0m             \u001b[0;32mfor\u001b[0m \u001b[0mxx\u001b[0m\u001b[0;34m,\u001b[0m\u001b[0myy\u001b[0m \u001b[0;32min\u001b[0m \u001b[0mbatches_gen\u001b[0m\u001b[0;34m(\u001b[0m\u001b[0mself\u001b[0m\u001b[0;34m.\u001b[0m\u001b[0mtrain\u001b[0m\u001b[0;34m,\u001b[0m \u001b[0mbatch_size\u001b[0m\u001b[0;34m,\u001b[0m \u001b[0mself\u001b[0m\u001b[0;34m.\u001b[0m\u001b[0mwindow_size\u001b[0m\u001b[0;34m,\u001b[0m \u001b[0mshuffle\u001b[0m\u001b[0;34m=\u001b[0m\u001b[0mTrue\u001b[0m\u001b[0;34m)\u001b[0m\u001b[0;34m:\u001b[0m\u001b[0;34m\u001b[0m\u001b[0m\n\u001b[0;32m---> 37\u001b[0;31m                 \u001b[0m_\u001b[0m\u001b[0;34m,\u001b[0m \u001b[0mres\u001b[0m \u001b[0;34m=\u001b[0m \u001b[0mself\u001b[0m\u001b[0;34m.\u001b[0m\u001b[0msess\u001b[0m\u001b[0;34m.\u001b[0m\u001b[0mrun\u001b[0m\u001b[0;34m(\u001b[0m\u001b[0;34m[\u001b[0m\u001b[0mself\u001b[0m\u001b[0;34m.\u001b[0m\u001b[0moptimizer\u001b[0m\u001b[0;34m,\u001b[0m \u001b[0mself\u001b[0m\u001b[0;34m.\u001b[0m\u001b[0mcost\u001b[0m\u001b[0;34m]\u001b[0m\u001b[0;34m,\u001b[0m \u001b[0mfeed_dict\u001b[0m\u001b[0;34m=\u001b[0m\u001b[0;34m{\u001b[0m\u001b[0mself\u001b[0m\u001b[0;34m.\u001b[0m\u001b[0minputs\u001b[0m\u001b[0;34m:\u001b[0m \u001b[0mxx\u001b[0m\u001b[0;34m,\u001b[0m \u001b[0mself\u001b[0m\u001b[0;34m.\u001b[0m\u001b[0mlabels\u001b[0m\u001b[0;34m:\u001b[0m \u001b[0myy\u001b[0m\u001b[0;34m}\u001b[0m\u001b[0;34m)\u001b[0m \u001b[0;31m# train (update weights)\u001b[0m\u001b[0;34m\u001b[0m\u001b[0m\n\u001b[0m\u001b[1;32m     38\u001b[0m                 \u001b[0mloss\u001b[0m \u001b[0;34m+=\u001b[0m \u001b[0mres\u001b[0m \u001b[0;31m# calculate loss\u001b[0m\u001b[0;34m\u001b[0m\u001b[0m\n\u001b[1;32m     39\u001b[0m                 \u001b[0mn_total_batches\u001b[0m \u001b[0;34m+=\u001b[0m \u001b[0;36m1\u001b[0m\u001b[0;34m\u001b[0m\u001b[0m\n",
      "\u001b[0;32m/home/ltd/anaconda3/envs/openke/lib/python2.7/site-packages/tensorflow/python/client/session.pyc\u001b[0m in \u001b[0;36mrun\u001b[0;34m(self, fetches, feed_dict, options, run_metadata)\u001b[0m\n\u001b[1;32m    903\u001b[0m     \u001b[0;32mtry\u001b[0m\u001b[0;34m:\u001b[0m\u001b[0;34m\u001b[0m\u001b[0m\n\u001b[1;32m    904\u001b[0m       result = self._run(None, fetches, feed_dict, options_ptr,\n\u001b[0;32m--> 905\u001b[0;31m                          run_metadata_ptr)\n\u001b[0m\u001b[1;32m    906\u001b[0m       \u001b[0;32mif\u001b[0m \u001b[0mrun_metadata\u001b[0m\u001b[0;34m:\u001b[0m\u001b[0;34m\u001b[0m\u001b[0m\n\u001b[1;32m    907\u001b[0m         \u001b[0mproto_data\u001b[0m \u001b[0;34m=\u001b[0m \u001b[0mtf_session\u001b[0m\u001b[0;34m.\u001b[0m\u001b[0mTF_GetBuffer\u001b[0m\u001b[0;34m(\u001b[0m\u001b[0mrun_metadata_ptr\u001b[0m\u001b[0;34m)\u001b[0m\u001b[0;34m\u001b[0m\u001b[0m\n",
      "\u001b[0;32m/home/ltd/anaconda3/envs/openke/lib/python2.7/site-packages/tensorflow/python/client/session.pyc\u001b[0m in \u001b[0;36m_run\u001b[0;34m(self, handle, fetches, feed_dict, options, run_metadata)\u001b[0m\n\u001b[1;32m   1138\u001b[0m     \u001b[0;32mif\u001b[0m \u001b[0mfinal_fetches\u001b[0m \u001b[0;32mor\u001b[0m \u001b[0mfinal_targets\u001b[0m \u001b[0;32mor\u001b[0m \u001b[0;34m(\u001b[0m\u001b[0mhandle\u001b[0m \u001b[0;32mand\u001b[0m \u001b[0mfeed_dict_tensor\u001b[0m\u001b[0;34m)\u001b[0m\u001b[0;34m:\u001b[0m\u001b[0;34m\u001b[0m\u001b[0m\n\u001b[1;32m   1139\u001b[0m       results = self._do_run(handle, final_targets, final_fetches,\n\u001b[0;32m-> 1140\u001b[0;31m                              feed_dict_tensor, options, run_metadata)\n\u001b[0m\u001b[1;32m   1141\u001b[0m     \u001b[0;32melse\u001b[0m\u001b[0;34m:\u001b[0m\u001b[0;34m\u001b[0m\u001b[0m\n\u001b[1;32m   1142\u001b[0m       \u001b[0mresults\u001b[0m \u001b[0;34m=\u001b[0m \u001b[0;34m[\u001b[0m\u001b[0;34m]\u001b[0m\u001b[0;34m\u001b[0m\u001b[0m\n",
      "\u001b[0;32m/home/ltd/anaconda3/envs/openke/lib/python2.7/site-packages/tensorflow/python/client/session.pyc\u001b[0m in \u001b[0;36m_do_run\u001b[0;34m(self, handle, target_list, fetch_list, feed_dict, options, run_metadata)\u001b[0m\n\u001b[1;32m   1319\u001b[0m     \u001b[0;32mif\u001b[0m \u001b[0mhandle\u001b[0m \u001b[0;32mis\u001b[0m \u001b[0mNone\u001b[0m\u001b[0;34m:\u001b[0m\u001b[0;34m\u001b[0m\u001b[0m\n\u001b[1;32m   1320\u001b[0m       return self._do_call(_run_fn, feeds, fetches, targets, options,\n\u001b[0;32m-> 1321\u001b[0;31m                            run_metadata)\n\u001b[0m\u001b[1;32m   1322\u001b[0m     \u001b[0;32melse\u001b[0m\u001b[0;34m:\u001b[0m\u001b[0;34m\u001b[0m\u001b[0m\n\u001b[1;32m   1323\u001b[0m       \u001b[0;32mreturn\u001b[0m \u001b[0mself\u001b[0m\u001b[0;34m.\u001b[0m\u001b[0m_do_call\u001b[0m\u001b[0;34m(\u001b[0m\u001b[0m_prun_fn\u001b[0m\u001b[0;34m,\u001b[0m \u001b[0mhandle\u001b[0m\u001b[0;34m,\u001b[0m \u001b[0mfeeds\u001b[0m\u001b[0;34m,\u001b[0m \u001b[0mfetches\u001b[0m\u001b[0;34m)\u001b[0m\u001b[0;34m\u001b[0m\u001b[0m\n",
      "\u001b[0;32m/home/ltd/anaconda3/envs/openke/lib/python2.7/site-packages/tensorflow/python/client/session.pyc\u001b[0m in \u001b[0;36m_do_call\u001b[0;34m(self, fn, *args)\u001b[0m\n\u001b[1;32m   1325\u001b[0m   \u001b[0;32mdef\u001b[0m \u001b[0m_do_call\u001b[0m\u001b[0;34m(\u001b[0m\u001b[0mself\u001b[0m\u001b[0;34m,\u001b[0m \u001b[0mfn\u001b[0m\u001b[0;34m,\u001b[0m \u001b[0;34m*\u001b[0m\u001b[0margs\u001b[0m\u001b[0;34m)\u001b[0m\u001b[0;34m:\u001b[0m\u001b[0;34m\u001b[0m\u001b[0m\n\u001b[1;32m   1326\u001b[0m     \u001b[0;32mtry\u001b[0m\u001b[0;34m:\u001b[0m\u001b[0;34m\u001b[0m\u001b[0m\n\u001b[0;32m-> 1327\u001b[0;31m       \u001b[0;32mreturn\u001b[0m \u001b[0mfn\u001b[0m\u001b[0;34m(\u001b[0m\u001b[0;34m*\u001b[0m\u001b[0margs\u001b[0m\u001b[0;34m)\u001b[0m\u001b[0;34m\u001b[0m\u001b[0m\n\u001b[0m\u001b[1;32m   1328\u001b[0m     \u001b[0;32mexcept\u001b[0m \u001b[0merrors\u001b[0m\u001b[0;34m.\u001b[0m\u001b[0mOpError\u001b[0m \u001b[0;32mas\u001b[0m \u001b[0me\u001b[0m\u001b[0;34m:\u001b[0m\u001b[0;34m\u001b[0m\u001b[0m\n\u001b[1;32m   1329\u001b[0m       \u001b[0mmessage\u001b[0m \u001b[0;34m=\u001b[0m \u001b[0mcompat\u001b[0m\u001b[0;34m.\u001b[0m\u001b[0mas_text\u001b[0m\u001b[0;34m(\u001b[0m\u001b[0me\u001b[0m\u001b[0;34m.\u001b[0m\u001b[0mmessage\u001b[0m\u001b[0;34m)\u001b[0m\u001b[0;34m\u001b[0m\u001b[0m\n",
      "\u001b[0;32m/home/ltd/anaconda3/envs/openke/lib/python2.7/site-packages/tensorflow/python/client/session.pyc\u001b[0m in \u001b[0;36m_run_fn\u001b[0;34m(feed_dict, fetch_list, target_list, options, run_metadata)\u001b[0m\n\u001b[1;32m   1310\u001b[0m       \u001b[0mself\u001b[0m\u001b[0;34m.\u001b[0m\u001b[0m_extend_graph\u001b[0m\u001b[0;34m(\u001b[0m\u001b[0;34m)\u001b[0m\u001b[0;34m\u001b[0m\u001b[0m\n\u001b[1;32m   1311\u001b[0m       return self._call_tf_sessionrun(\n\u001b[0;32m-> 1312\u001b[0;31m           options, feed_dict, fetch_list, target_list, run_metadata)\n\u001b[0m\u001b[1;32m   1313\u001b[0m \u001b[0;34m\u001b[0m\u001b[0m\n\u001b[1;32m   1314\u001b[0m     \u001b[0;32mdef\u001b[0m \u001b[0m_prun_fn\u001b[0m\u001b[0;34m(\u001b[0m\u001b[0mhandle\u001b[0m\u001b[0;34m,\u001b[0m \u001b[0mfeed_dict\u001b[0m\u001b[0;34m,\u001b[0m \u001b[0mfetch_list\u001b[0m\u001b[0;34m)\u001b[0m\u001b[0;34m:\u001b[0m\u001b[0;34m\u001b[0m\u001b[0m\n",
      "\u001b[0;32m/home/ltd/anaconda3/envs/openke/lib/python2.7/site-packages/tensorflow/python/client/session.pyc\u001b[0m in \u001b[0;36m_call_tf_sessionrun\u001b[0;34m(self, options, feed_dict, fetch_list, target_list, run_metadata)\u001b[0m\n\u001b[1;32m   1418\u001b[0m         return tf_session.TF_Run(\n\u001b[1;32m   1419\u001b[0m             \u001b[0mself\u001b[0m\u001b[0;34m.\u001b[0m\u001b[0m_session\u001b[0m\u001b[0;34m,\u001b[0m \u001b[0moptions\u001b[0m\u001b[0;34m,\u001b[0m \u001b[0mfeed_dict\u001b[0m\u001b[0;34m,\u001b[0m \u001b[0mfetch_list\u001b[0m\u001b[0;34m,\u001b[0m \u001b[0mtarget_list\u001b[0m\u001b[0;34m,\u001b[0m\u001b[0;34m\u001b[0m\u001b[0m\n\u001b[0;32m-> 1420\u001b[0;31m             status, run_metadata)\n\u001b[0m\u001b[1;32m   1421\u001b[0m \u001b[0;34m\u001b[0m\u001b[0m\n\u001b[1;32m   1422\u001b[0m   \u001b[0;32mdef\u001b[0m \u001b[0m_call_tf_sessionprun\u001b[0m\u001b[0;34m(\u001b[0m\u001b[0mself\u001b[0m\u001b[0;34m,\u001b[0m \u001b[0mhandle\u001b[0m\u001b[0;34m,\u001b[0m \u001b[0mfeed_dict\u001b[0m\u001b[0;34m,\u001b[0m \u001b[0mfetch_list\u001b[0m\u001b[0;34m)\u001b[0m\u001b[0;34m:\u001b[0m\u001b[0;34m\u001b[0m\u001b[0m\n",
      "\u001b[0;31mKeyboardInterrupt\u001b[0m: "
     ]
    }
   ],
   "source": [
    "nn = Model(conv_nn_2, window_size=1024)\n",
    "nn.set_data(train_ms, valid_ms)\n",
    "nn.fit(\n",
    "    epochs=1000,\n",
    "    batch_size=1024,\n",
    "    batches_gen=conv_batches_gen,\n",
    ")"
   ]
  },
  {
   "cell_type": "markdown",
   "metadata": {},
   "source": [
    "# Debug"
   ]
  },
  {
   "cell_type": "code",
   "execution_count": 9,
   "metadata": {},
   "outputs": [
    {
     "data": {
      "text/plain": [
       "96"
      ]
     },
     "execution_count": 9,
     "metadata": {},
     "output_type": "execute_result"
    }
   ],
   "source": [
    "len(train)"
   ]
  },
  {
   "cell_type": "code",
   "execution_count": null,
   "metadata": {},
   "outputs": [],
   "source": []
  },
  {
   "cell_type": "code",
   "execution_count": null,
   "metadata": {},
   "outputs": [],
   "source": []
  },
  {
   "cell_type": "code",
   "execution_count": 64,
   "metadata": {},
   "outputs": [
    {
     "name": "stdout",
     "output_type": "stream",
     "text": [
      "AUC: 0.889941700921\n",
      "Elapsed time: 552.739305973\n"
     ]
    }
   ],
   "source": [
    "nn.set_data(train, valid)\n",
    "\n",
    "start_time = time.time()\n",
    "auc = nn.validate(1024, conv_batches_gen)\n",
    "print(\"AUC: {}\".format(auc))\n",
    "print('Elapsed time: {}'.format(time.time() - start_time))"
   ]
  },
  {
   "cell_type": "code",
   "execution_count": 21,
   "metadata": {},
   "outputs": [
    {
     "name": "stdout",
     "output_type": "stream",
     "text": [
      "0.07339391998329657\n"
     ]
    }
   ],
   "source": [
    "loss = 0\n",
    "n_total_batches = 0\n",
    "for xx,yy in conv_batches_gen([train[0]], 256, 1024, shuffle=True):\n",
    "    loss += nn.sess.run(nn.cost, feed_dict={nn.inputs: xx, nn.labels: yy})\n",
    "    n_total_batches += 1\n",
    "print loss / n_total_batches"
   ]
  },
  {
   "cell_type": "code",
   "execution_count": 22,
   "metadata": {},
   "outputs": [
    {
     "data": {
      "text/plain": [
       "0.613213468633827"
      ]
     },
     "execution_count": 22,
     "metadata": {},
     "output_type": "execute_result"
    }
   ],
   "source": [
    "nn.set_data(train, [valid[1]])\n",
    "nn.validate(256, conv_batches_gen)"
   ]
  },
  {
   "cell_type": "code",
   "execution_count": null,
   "metadata": {},
   "outputs": [],
   "source": []
  },
  {
   "cell_type": "code",
   "execution_count": 129,
   "metadata": {},
   "outputs": [],
   "source": [
    "g = conv_batches_gen([valid[8]], batch_size=4096, window_size=1024, shuffle=True)"
   ]
  },
  {
   "cell_type": "code",
   "execution_count": 131,
   "metadata": {},
   "outputs": [
    {
     "name": "stdout",
     "output_type": "stream",
     "text": [
      "Elapsed time: 5.29289245605e-05\n"
     ]
    }
   ],
   "source": [
    "# testing time\n",
    "start_time = time.time()\n",
    "for x,y in g:\n",
    "    pass\n",
    "print('Elapsed time: {}'.format(time.time() - start_time))"
   ]
  },
  {
   "cell_type": "code",
   "execution_count": 125,
   "metadata": {},
   "outputs": [],
   "source": [
    "x,y = next(g)"
   ]
  },
  {
   "cell_type": "code",
   "execution_count": 126,
   "metadata": {},
   "outputs": [
    {
     "data": {
      "text/plain": [
       "(4096, 1024, 32)"
      ]
     },
     "execution_count": 126,
     "metadata": {},
     "output_type": "execute_result"
    }
   ],
   "source": [
    "x.shape"
   ]
  },
  {
   "cell_type": "code",
   "execution_count": 128,
   "metadata": {},
   "outputs": [
    {
     "data": {
      "text/plain": [
       "(4096, 6)"
      ]
     },
     "execution_count": 128,
     "metadata": {},
     "output_type": "execute_result"
    }
   ],
   "source": [
    "y.shape"
   ]
  },
  {
   "cell_type": "code",
   "execution_count": 117,
   "metadata": {},
   "outputs": [],
   "source": [
    "x,y = train[0]"
   ]
  },
  {
   "cell_type": "code",
   "execution_count": 118,
   "metadata": {},
   "outputs": [
    {
     "data": {
      "text/plain": [
       "(291874, 32)"
      ]
     },
     "execution_count": 118,
     "metadata": {},
     "output_type": "execute_result"
    }
   ],
   "source": [
    "x.shape"
   ]
  },
  {
   "cell_type": "code",
   "execution_count": 119,
   "metadata": {},
   "outputs": [
    {
     "data": {
      "text/html": [
       "<div>\n",
       "<style scoped>\n",
       "    .dataframe tbody tr th:only-of-type {\n",
       "        vertical-align: middle;\n",
       "    }\n",
       "\n",
       "    .dataframe tbody tr th {\n",
       "        vertical-align: top;\n",
       "    }\n",
       "\n",
       "    .dataframe thead th {\n",
       "        text-align: right;\n",
       "    }\n",
       "</style>\n",
       "<table border=\"1\" class=\"dataframe\">\n",
       "  <thead>\n",
       "    <tr style=\"text-align: right;\">\n",
       "      <th></th>\n",
       "      <th>HandStart</th>\n",
       "      <th>FirstDigitTouch</th>\n",
       "      <th>BothStartLoadPhase</th>\n",
       "      <th>LiftOff</th>\n",
       "      <th>Replace</th>\n",
       "      <th>BothReleased</th>\n",
       "    </tr>\n",
       "    <tr>\n",
       "      <th>id</th>\n",
       "      <th></th>\n",
       "      <th></th>\n",
       "      <th></th>\n",
       "      <th></th>\n",
       "      <th></th>\n",
       "      <th></th>\n",
       "    </tr>\n",
       "  </thead>\n",
       "  <tbody>\n",
       "    <tr>\n",
       "      <th>subj2_series1_3</th>\n",
       "      <td>0</td>\n",
       "      <td>0</td>\n",
       "      <td>0</td>\n",
       "      <td>0</td>\n",
       "      <td>0</td>\n",
       "      <td>0</td>\n",
       "    </tr>\n",
       "    <tr>\n",
       "      <th>subj2_series1_4</th>\n",
       "      <td>0</td>\n",
       "      <td>0</td>\n",
       "      <td>0</td>\n",
       "      <td>0</td>\n",
       "      <td>0</td>\n",
       "      <td>0</td>\n",
       "    </tr>\n",
       "    <tr>\n",
       "      <th>subj2_series1_5</th>\n",
       "      <td>0</td>\n",
       "      <td>0</td>\n",
       "      <td>0</td>\n",
       "      <td>0</td>\n",
       "      <td>0</td>\n",
       "      <td>0</td>\n",
       "    </tr>\n",
       "  </tbody>\n",
       "</table>\n",
       "</div>"
      ],
      "text/plain": [
       "                 HandStart  FirstDigitTouch  BothStartLoadPhase  LiftOff  \\\n",
       "id                                                                         \n",
       "subj2_series1_3          0                0                   0        0   \n",
       "subj2_series1_4          0                0                   0        0   \n",
       "subj2_series1_5          0                0                   0        0   \n",
       "\n",
       "                 Replace  BothReleased  \n",
       "id                                      \n",
       "subj2_series1_3        0             0  \n",
       "subj2_series1_4        0             0  \n",
       "subj2_series1_5        0             0  "
      ]
     },
     "execution_count": 119,
     "metadata": {},
     "output_type": "execute_result"
    }
   ],
   "source": [
    "y.iloc[3:6]"
   ]
  },
  {
   "cell_type": "code",
   "execution_count": null,
   "metadata": {},
   "outputs": [],
   "source": [
    "def ttt(a):\n",
    "    return a"
   ]
  },
  {
   "cell_type": "code",
   "execution_count": null,
   "metadata": {},
   "outputs": [],
   "source": [
    "x,y = train[0]"
   ]
  },
  {
   "cell_type": "code",
   "execution_count": null,
   "metadata": {},
   "outputs": [],
   "source": [
    "np.array(y)[np.array([5,6,9])]"
   ]
  },
  {
   "cell_type": "code",
   "execution_count": null,
   "metadata": {},
   "outputs": [],
   "source": [
    "sl = np.array([1,2,3,4,5])\n",
    "x[np.array([[1,2,3],[2,3,4]])]"
   ]
  },
  {
   "cell_type": "code",
   "execution_count": null,
   "metadata": {},
   "outputs": [],
   "source": []
  },
  {
   "cell_type": "code",
   "execution_count": null,
   "metadata": {},
   "outputs": [],
   "source": [
    "# debugging\n",
    "xx = train[0][0][0:100]\n",
    "yy = train[0][1][0:100]\n",
    "predictions = sess.run(logits, feed_dict={inputs: xx, labels: yy})\n",
    "print predictions"
   ]
  },
  {
   "cell_type": "code",
   "execution_count": null,
   "metadata": {},
   "outputs": [],
   "source": [
    "train[0][1][0:100]"
   ]
  },
  {
   "cell_type": "code",
   "execution_count": null,
   "metadata": {},
   "outputs": [],
   "source": [
    "sum_ = 0\n",
    "for x,y in valid:\n",
    "    sum_ += len(x)\n",
    "sum_"
   ]
  },
  {
   "cell_type": "code",
   "execution_count": null,
   "metadata": {},
   "outputs": [],
   "source": [
    "roc_auc_score([1,1,0], [0.95, 0.86, 0.02], average='macro')"
   ]
  },
  {
   "cell_type": "code",
   "execution_count": null,
   "metadata": {},
   "outputs": [],
   "source": [
    "a = [0:10]"
   ]
  }
 ],
 "metadata": {
  "kernelspec": {
   "display_name": "Python 2",
   "language": "python",
   "name": "python2"
  },
  "language_info": {
   "codemirror_mode": {
    "name": "ipython",
    "version": 2
   },
   "file_extension": ".py",
   "mimetype": "text/x-python",
   "name": "python",
   "nbconvert_exporter": "python",
   "pygments_lexer": "ipython2",
   "version": "2.7.14"
  }
 },
 "nbformat": 4,
 "nbformat_minor": 2
}
