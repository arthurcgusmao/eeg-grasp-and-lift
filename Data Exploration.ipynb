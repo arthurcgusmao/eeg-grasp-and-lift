{
 "cells": [
  {
   "cell_type": "markdown",
   "metadata": {},
   "source": [
    "# Data Exploration\n",
    "\n",
    "In this notebook we explore the data in order to better understand it and to get information that will help to guide model choice."
   ]
  },
  {
   "cell_type": "code",
   "execution_count": 1,
   "metadata": {},
   "outputs": [
    {
     "name": "stdout",
     "output_type": "stream",
     "text": [
      "Data read. There are 96 series in total.\n"
     ]
    }
   ],
   "source": [
    "import os\n",
    "import numpy as np\n",
    "\n",
    "np.random.seed(30) # fix random seed\n",
    "os.environ[\"CUDA_VISIBLE_DEVICES\"] = '0' # fix cuda device to be used\n",
    "\n",
    "## Read data, standardize, and separate into train/valid\n",
    "\n",
    "from helpers import read_and_preprocess_data\n",
    "\n",
    "train, valid = read_and_preprocess_data()"
   ]
  },
  {
   "cell_type": "markdown",
   "metadata": {},
   "source": [
    "## Begin data exploration"
   ]
  },
  {
   "cell_type": "markdown",
   "metadata": {},
   "source": [
    "Check the average and total series length."
   ]
  },
  {
   "cell_type": "code",
   "execution_count": 10,
   "metadata": {},
   "outputs": [
    {
     "name": "stdout",
     "output_type": "stream",
     "text": [
      "Average series length: 187071\n",
      "Sum of all series length: 15714003\n"
     ]
    }
   ],
   "source": [
    "len_ = 0\n",
    "count = 0\n",
    "for x,y in train:\n",
    "    len_ += len(x)\n",
    "    count += 1\n",
    "print(\"Average series length: {}\".format(len_/count))\n",
    "print(\"Sum of all series length: {}\".format(len_))"
   ]
  },
  {
   "cell_type": "markdown",
   "metadata": {},
   "source": [
    "## Visualizing one repetition\n",
    "\n",
    "In the figure below, we are going to plot how each label evolve over time for one repetition of the grasp-and-lift movement."
   ]
  },
  {
   "cell_type": "code",
   "execution_count": 11,
   "metadata": {},
   "outputs": [
    {
     "data": {
      "image/png": "[encoded data removed]",
      "text/plain": [
       "<matplotlib.figure.Figure at 0x7fb0e77d0750>"
      ]
     },
     "metadata": {},
     "output_type": "display_data"
    }
   ],
   "source": [
    "fig = plt.figure(figsize=(8,4))\n",
    "cols = train[0][1].columns\n",
    "first_ax = None\n",
    "\n",
    "for idx,col in enumerate(cols):\n",
    "    if first_ax == None:\n",
    "        ax = fig.add_subplot(len(cols),1,idx+1)\n",
    "        first_ax = ax\n",
    "    else: \n",
    "        ax = fig.add_subplot(len(cols),1,idx+1, sharex=first_ax)\n",
    "    ax.plot(train[33][1].reset_index()[col][:4000], label=col)\n",
    "    ax.legend()"
   ]
  },
  {
   "cell_type": "markdown",
   "metadata": {},
   "source": [
    "From the plot above, we can see that there is some overlapping of labels, specially for the \"FirstDigitTouch\", \"BothStartLoadPhase\" and \"LiftOff\" labels. Therefore, we must NOT apply a softmax function at our outputs, but a sigmoid instead. In other words, it is not only a *multi-class classification* problem, but a *multi-label classification* one."
   ]
  },
  {
   "cell_type": "markdown",
   "metadata": {},
   "source": [
    "## Check step duration\n",
    "\n",
    "From the last plot, we also see that each label tend to be classified as true for the same time period. We are going to check whether this is true and the average step duration."
   ]
  },
  {
   "cell_type": "code",
   "execution_count": 12,
   "metadata": {},
   "outputs": [
    {
     "name": "stdout",
     "output_type": "stream",
     "text": [
      "{'HandStart': 150, 'LiftOff': 150, 'Replace': 150, 'BothStartLoadPhase': 150, 'FirstDigitTouch': 150, 'BothReleased': 150}\n"
     ]
    }
   ],
   "source": [
    "last = {}\n",
    "step_start = {}\n",
    "step_duration = {}\n",
    "step_count = {}\n",
    "y_cols = train[0][1].columns\n",
    "for col in y_cols:\n",
    "    step_start[col] = 0\n",
    "    step_duration[col] = 0\n",
    "    step_count[col] = 0\n",
    "    \n",
    "for _,y in [train[0]]:\n",
    "    for idx,row in y.reset_index().iterrows():\n",
    "        for col in y_cols:\n",
    "            if idx == 0:\n",
    "                pass\n",
    "            elif last[col] == 0 and row[col] == 1:\n",
    "                step_start[col] = idx\n",
    "            elif last[col] == 1 and row[col] == 0:\n",
    "                step_duration[col] += idx - step_start[col]\n",
    "                step_count[col] += 1\n",
    "            last[col] = row[col]\n",
    "\n",
    "step_avg_duration = {}\n",
    "for col in y_cols:\n",
    "    step_avg_duration[col] = step_duration[col] / step_count[col]\n",
    "\n",
    "print step_avg_duration"
   ]
  },
  {
   "cell_type": "markdown",
   "metadata": {},
   "source": [
    "The duration of each step (the total amount of time each movement is active) is 150 for all series. We can use this information to guide our search for the best window size (WS). A WS smaller than 150 is likely to miss important information that would help to identify an ongoing movement. WSs much bigger than that are likely to fill the model with unnecessary information (increasing variance). Thus, we expect to experiment with WSs ranging from 150 to 1500."
   ]
  }
 ],
 "metadata": {
  "kernelspec": {
   "display_name": "Python 2",
   "language": "python",
   "name": "python2"
  },
  "language_info": {
   "codemirror_mode": {
    "name": "ipython",
    "version": 2
   },
   "file_extension": ".py",
   "mimetype": "text/x-python",
   "name": "python",
   "nbconvert_exporter": "python",
   "pygments_lexer": "ipython2",
   "version": "2.7.14"
  }
 },
 "nbformat": 4,
 "nbformat_minor": 2
}
